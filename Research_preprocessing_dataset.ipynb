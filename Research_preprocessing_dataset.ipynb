{
 "cells": [
  {
   "cell_type": "code",
   "execution_count": 375,
   "id": "f8673087-83b3-482f-b7f5-8d15c3486bd2",
   "metadata": {},
   "outputs": [],
   "source": [
    "import pandas as pd\n",
    "import matplotlib.pyplot as plt\n",
    "import seaborn as sns"
   ]
  },
  {
   "cell_type": "code",
   "execution_count": 377,
   "id": "ff72bcae-a036-4789-aad6-67a3e190069c",
   "metadata": {},
   "outputs": [],
   "source": [
    "data=pd.read_csv(\"C:\\\\Users\\\\karun\\\\Downloads\\\\mental health n music.csv\")"
   ]
  },
  {
   "cell_type": "code",
   "execution_count": 379,
   "id": "9dcdee3d-3535-4115-becf-822cdcadd2e6",
   "metadata": {},
   "outputs": [
    {
     "data": {
      "text/html": [
       "<div>\n",
       "<style scoped>\n",
       "    .dataframe tbody tr th:only-of-type {\n",
       "        vertical-align: middle;\n",
       "    }\n",
       "\n",
       "    .dataframe tbody tr th {\n",
       "        vertical-align: top;\n",
       "    }\n",
       "\n",
       "    .dataframe thead th {\n",
       "        text-align: right;\n",
       "    }\n",
       "</style>\n",
       "<table border=\"1\" class=\"dataframe\">\n",
       "  <thead>\n",
       "    <tr style=\"text-align: right;\">\n",
       "      <th></th>\n",
       "      <th>Timestamp</th>\n",
       "      <th>Age</th>\n",
       "      <th>Primary streaming service</th>\n",
       "      <th>Hours per day</th>\n",
       "      <th>While working</th>\n",
       "      <th>Instrumentalist</th>\n",
       "      <th>Composer</th>\n",
       "      <th>Fav genre</th>\n",
       "      <th>Exploratory</th>\n",
       "      <th>Foreign languages</th>\n",
       "      <th>...</th>\n",
       "      <th>Frequency [R&amp;B]</th>\n",
       "      <th>Frequency [Rap]</th>\n",
       "      <th>Frequency [Rock]</th>\n",
       "      <th>Frequency [Video game music]</th>\n",
       "      <th>Anxiety</th>\n",
       "      <th>Depression</th>\n",
       "      <th>Insomnia</th>\n",
       "      <th>OCD</th>\n",
       "      <th>Music effects</th>\n",
       "      <th>Permissions</th>\n",
       "    </tr>\n",
       "  </thead>\n",
       "  <tbody>\n",
       "    <tr>\n",
       "      <th>0</th>\n",
       "      <td>8/27/2022 19:29:02</td>\n",
       "      <td>18.0</td>\n",
       "      <td>Spotify</td>\n",
       "      <td>3.0</td>\n",
       "      <td>Yes</td>\n",
       "      <td>Yes</td>\n",
       "      <td>Yes</td>\n",
       "      <td>Latin</td>\n",
       "      <td>Yes</td>\n",
       "      <td>Yes</td>\n",
       "      <td>...</td>\n",
       "      <td>Sometimes</td>\n",
       "      <td>Very frequently</td>\n",
       "      <td>Never</td>\n",
       "      <td>Sometimes</td>\n",
       "      <td>3.0</td>\n",
       "      <td>0.0</td>\n",
       "      <td>1.0</td>\n",
       "      <td>0.0</td>\n",
       "      <td>NaN</td>\n",
       "      <td>I understand.</td>\n",
       "    </tr>\n",
       "    <tr>\n",
       "      <th>1</th>\n",
       "      <td>8/27/2022 19:57:31</td>\n",
       "      <td>63.0</td>\n",
       "      <td>Pandora</td>\n",
       "      <td>1.5</td>\n",
       "      <td>Yes</td>\n",
       "      <td>No</td>\n",
       "      <td>No</td>\n",
       "      <td>Rock</td>\n",
       "      <td>Yes</td>\n",
       "      <td>No</td>\n",
       "      <td>...</td>\n",
       "      <td>Sometimes</td>\n",
       "      <td>Rarely</td>\n",
       "      <td>Very frequently</td>\n",
       "      <td>Rarely</td>\n",
       "      <td>7.0</td>\n",
       "      <td>2.0</td>\n",
       "      <td>2.0</td>\n",
       "      <td>1.0</td>\n",
       "      <td>NaN</td>\n",
       "      <td>I understand.</td>\n",
       "    </tr>\n",
       "    <tr>\n",
       "      <th>2</th>\n",
       "      <td>8/27/2022 21:28:18</td>\n",
       "      <td>18.0</td>\n",
       "      <td>Spotify</td>\n",
       "      <td>4.0</td>\n",
       "      <td>No</td>\n",
       "      <td>No</td>\n",
       "      <td>No</td>\n",
       "      <td>Video game music</td>\n",
       "      <td>No</td>\n",
       "      <td>Yes</td>\n",
       "      <td>...</td>\n",
       "      <td>Never</td>\n",
       "      <td>Rarely</td>\n",
       "      <td>Rarely</td>\n",
       "      <td>Very frequently</td>\n",
       "      <td>7.0</td>\n",
       "      <td>7.0</td>\n",
       "      <td>10.0</td>\n",
       "      <td>2.0</td>\n",
       "      <td>No effect</td>\n",
       "      <td>I understand.</td>\n",
       "    </tr>\n",
       "    <tr>\n",
       "      <th>3</th>\n",
       "      <td>8/27/2022 21:40:40</td>\n",
       "      <td>61.0</td>\n",
       "      <td>YouTube Music</td>\n",
       "      <td>2.5</td>\n",
       "      <td>Yes</td>\n",
       "      <td>No</td>\n",
       "      <td>Yes</td>\n",
       "      <td>Jazz</td>\n",
       "      <td>Yes</td>\n",
       "      <td>Yes</td>\n",
       "      <td>...</td>\n",
       "      <td>Sometimes</td>\n",
       "      <td>Never</td>\n",
       "      <td>Never</td>\n",
       "      <td>Never</td>\n",
       "      <td>9.0</td>\n",
       "      <td>7.0</td>\n",
       "      <td>3.0</td>\n",
       "      <td>3.0</td>\n",
       "      <td>Improve</td>\n",
       "      <td>I understand.</td>\n",
       "    </tr>\n",
       "    <tr>\n",
       "      <th>4</th>\n",
       "      <td>8/27/2022 21:54:47</td>\n",
       "      <td>18.0</td>\n",
       "      <td>Spotify</td>\n",
       "      <td>4.0</td>\n",
       "      <td>Yes</td>\n",
       "      <td>No</td>\n",
       "      <td>No</td>\n",
       "      <td>R&amp;B</td>\n",
       "      <td>Yes</td>\n",
       "      <td>No</td>\n",
       "      <td>...</td>\n",
       "      <td>Very frequently</td>\n",
       "      <td>Very frequently</td>\n",
       "      <td>Never</td>\n",
       "      <td>Rarely</td>\n",
       "      <td>7.0</td>\n",
       "      <td>2.0</td>\n",
       "      <td>5.0</td>\n",
       "      <td>9.0</td>\n",
       "      <td>Improve</td>\n",
       "      <td>I understand.</td>\n",
       "    </tr>\n",
       "  </tbody>\n",
       "</table>\n",
       "<p>5 rows × 33 columns</p>\n",
       "</div>"
      ],
      "text/plain": [
       "            Timestamp   Age Primary streaming service  Hours per day  \\\n",
       "0  8/27/2022 19:29:02  18.0                   Spotify            3.0   \n",
       "1  8/27/2022 19:57:31  63.0                   Pandora            1.5   \n",
       "2  8/27/2022 21:28:18  18.0                   Spotify            4.0   \n",
       "3  8/27/2022 21:40:40  61.0             YouTube Music            2.5   \n",
       "4  8/27/2022 21:54:47  18.0                   Spotify            4.0   \n",
       "\n",
       "  While working Instrumentalist Composer         Fav genre Exploratory  \\\n",
       "0           Yes             Yes      Yes             Latin         Yes   \n",
       "1           Yes              No       No              Rock         Yes   \n",
       "2            No              No       No  Video game music          No   \n",
       "3           Yes              No      Yes              Jazz         Yes   \n",
       "4           Yes              No       No               R&B         Yes   \n",
       "\n",
       "  Foreign languages  ...  Frequency [R&B]  Frequency [Rap] Frequency [Rock]  \\\n",
       "0               Yes  ...        Sometimes  Very frequently            Never   \n",
       "1                No  ...        Sometimes           Rarely  Very frequently   \n",
       "2               Yes  ...            Never           Rarely           Rarely   \n",
       "3               Yes  ...        Sometimes            Never            Never   \n",
       "4                No  ...  Very frequently  Very frequently            Never   \n",
       "\n",
       "  Frequency [Video game music] Anxiety Depression Insomnia  OCD Music effects  \\\n",
       "0                    Sometimes     3.0        0.0      1.0  0.0           NaN   \n",
       "1                       Rarely     7.0        2.0      2.0  1.0           NaN   \n",
       "2              Very frequently     7.0        7.0     10.0  2.0     No effect   \n",
       "3                        Never     9.0        7.0      3.0  3.0       Improve   \n",
       "4                       Rarely     7.0        2.0      5.0  9.0       Improve   \n",
       "\n",
       "     Permissions  \n",
       "0  I understand.  \n",
       "1  I understand.  \n",
       "2  I understand.  \n",
       "3  I understand.  \n",
       "4  I understand.  \n",
       "\n",
       "[5 rows x 33 columns]"
      ]
     },
     "execution_count": 379,
     "metadata": {},
     "output_type": "execute_result"
    }
   ],
   "source": [
    "data.head()"
   ]
  },
  {
   "cell_type": "code",
   "execution_count": 381,
   "id": "dc54be3c-5ec0-4c81-9dff-a2baf0d7261e",
   "metadata": {},
   "outputs": [
    {
     "name": "stdout",
     "output_type": "stream",
     "text": [
      "<class 'pandas.core.frame.DataFrame'>\n",
      "RangeIndex: 736 entries, 0 to 735\n",
      "Data columns (total 33 columns):\n",
      " #   Column                        Non-Null Count  Dtype  \n",
      "---  ------                        --------------  -----  \n",
      " 0   Timestamp                     736 non-null    object \n",
      " 1   Age                           735 non-null    float64\n",
      " 2   Primary streaming service     735 non-null    object \n",
      " 3   Hours per day                 736 non-null    float64\n",
      " 4   While working                 733 non-null    object \n",
      " 5   Instrumentalist               732 non-null    object \n",
      " 6   Composer                      735 non-null    object \n",
      " 7   Fav genre                     736 non-null    object \n",
      " 8   Exploratory                   736 non-null    object \n",
      " 9   Foreign languages             732 non-null    object \n",
      " 10  BPM                           629 non-null    float64\n",
      " 11  Frequency [Classical]         736 non-null    object \n",
      " 12  Frequency [Country]           736 non-null    object \n",
      " 13  Frequency [EDM]               736 non-null    object \n",
      " 14  Frequency [Folk]              736 non-null    object \n",
      " 15  Frequency [Gospel]            736 non-null    object \n",
      " 16  Frequency [Hip hop]           736 non-null    object \n",
      " 17  Frequency [Jazz]              736 non-null    object \n",
      " 18  Frequency [K pop]             736 non-null    object \n",
      " 19  Frequency [Latin]             736 non-null    object \n",
      " 20  Frequency [Lofi]              736 non-null    object \n",
      " 21  Frequency [Metal]             736 non-null    object \n",
      " 22  Frequency [Pop]               736 non-null    object \n",
      " 23  Frequency [R&B]               736 non-null    object \n",
      " 24  Frequency [Rap]               736 non-null    object \n",
      " 25  Frequency [Rock]              736 non-null    object \n",
      " 26  Frequency [Video game music]  736 non-null    object \n",
      " 27  Anxiety                       736 non-null    float64\n",
      " 28  Depression                    736 non-null    float64\n",
      " 29  Insomnia                      736 non-null    float64\n",
      " 30  OCD                           736 non-null    float64\n",
      " 31  Music effects                 728 non-null    object \n",
      " 32  Permissions                   736 non-null    object \n",
      "dtypes: float64(7), object(26)\n",
      "memory usage: 189.9+ KB\n"
     ]
    }
   ],
   "source": [
    "data.info()"
   ]
  },
  {
   "cell_type": "code",
   "execution_count": 383,
   "id": "70e9b813-5280-40ac-9a45-2a4b37eb9b1c",
   "metadata": {},
   "outputs": [
    {
     "data": {
      "text/html": [
       "<div>\n",
       "<style scoped>\n",
       "    .dataframe tbody tr th:only-of-type {\n",
       "        vertical-align: middle;\n",
       "    }\n",
       "\n",
       "    .dataframe tbody tr th {\n",
       "        vertical-align: top;\n",
       "    }\n",
       "\n",
       "    .dataframe thead th {\n",
       "        text-align: right;\n",
       "    }\n",
       "</style>\n",
       "<table border=\"1\" class=\"dataframe\">\n",
       "  <thead>\n",
       "    <tr style=\"text-align: right;\">\n",
       "      <th></th>\n",
       "      <th>Age</th>\n",
       "      <th>Hours per day</th>\n",
       "      <th>BPM</th>\n",
       "      <th>Anxiety</th>\n",
       "      <th>Depression</th>\n",
       "      <th>Insomnia</th>\n",
       "      <th>OCD</th>\n",
       "    </tr>\n",
       "  </thead>\n",
       "  <tbody>\n",
       "    <tr>\n",
       "      <th>count</th>\n",
       "      <td>735.000000</td>\n",
       "      <td>736.000000</td>\n",
       "      <td>6.290000e+02</td>\n",
       "      <td>736.000000</td>\n",
       "      <td>736.000000</td>\n",
       "      <td>736.000000</td>\n",
       "      <td>736.000000</td>\n",
       "    </tr>\n",
       "    <tr>\n",
       "      <th>mean</th>\n",
       "      <td>25.206803</td>\n",
       "      <td>3.572758</td>\n",
       "      <td>1.589948e+06</td>\n",
       "      <td>5.837636</td>\n",
       "      <td>4.796196</td>\n",
       "      <td>3.738451</td>\n",
       "      <td>2.637228</td>\n",
       "    </tr>\n",
       "    <tr>\n",
       "      <th>std</th>\n",
       "      <td>12.054970</td>\n",
       "      <td>3.028199</td>\n",
       "      <td>3.987261e+07</td>\n",
       "      <td>2.793054</td>\n",
       "      <td>3.028870</td>\n",
       "      <td>3.088689</td>\n",
       "      <td>2.842017</td>\n",
       "    </tr>\n",
       "    <tr>\n",
       "      <th>min</th>\n",
       "      <td>10.000000</td>\n",
       "      <td>0.000000</td>\n",
       "      <td>0.000000e+00</td>\n",
       "      <td>0.000000</td>\n",
       "      <td>0.000000</td>\n",
       "      <td>0.000000</td>\n",
       "      <td>0.000000</td>\n",
       "    </tr>\n",
       "    <tr>\n",
       "      <th>25%</th>\n",
       "      <td>18.000000</td>\n",
       "      <td>2.000000</td>\n",
       "      <td>1.000000e+02</td>\n",
       "      <td>4.000000</td>\n",
       "      <td>2.000000</td>\n",
       "      <td>1.000000</td>\n",
       "      <td>0.000000</td>\n",
       "    </tr>\n",
       "    <tr>\n",
       "      <th>50%</th>\n",
       "      <td>21.000000</td>\n",
       "      <td>3.000000</td>\n",
       "      <td>1.200000e+02</td>\n",
       "      <td>6.000000</td>\n",
       "      <td>5.000000</td>\n",
       "      <td>3.000000</td>\n",
       "      <td>2.000000</td>\n",
       "    </tr>\n",
       "    <tr>\n",
       "      <th>75%</th>\n",
       "      <td>28.000000</td>\n",
       "      <td>5.000000</td>\n",
       "      <td>1.440000e+02</td>\n",
       "      <td>8.000000</td>\n",
       "      <td>7.000000</td>\n",
       "      <td>6.000000</td>\n",
       "      <td>5.000000</td>\n",
       "    </tr>\n",
       "    <tr>\n",
       "      <th>max</th>\n",
       "      <td>89.000000</td>\n",
       "      <td>24.000000</td>\n",
       "      <td>1.000000e+09</td>\n",
       "      <td>10.000000</td>\n",
       "      <td>10.000000</td>\n",
       "      <td>10.000000</td>\n",
       "      <td>10.000000</td>\n",
       "    </tr>\n",
       "  </tbody>\n",
       "</table>\n",
       "</div>"
      ],
      "text/plain": [
       "              Age  Hours per day           BPM     Anxiety  Depression  \\\n",
       "count  735.000000     736.000000  6.290000e+02  736.000000  736.000000   \n",
       "mean    25.206803       3.572758  1.589948e+06    5.837636    4.796196   \n",
       "std     12.054970       3.028199  3.987261e+07    2.793054    3.028870   \n",
       "min     10.000000       0.000000  0.000000e+00    0.000000    0.000000   \n",
       "25%     18.000000       2.000000  1.000000e+02    4.000000    2.000000   \n",
       "50%     21.000000       3.000000  1.200000e+02    6.000000    5.000000   \n",
       "75%     28.000000       5.000000  1.440000e+02    8.000000    7.000000   \n",
       "max     89.000000      24.000000  1.000000e+09   10.000000   10.000000   \n",
       "\n",
       "         Insomnia         OCD  \n",
       "count  736.000000  736.000000  \n",
       "mean     3.738451    2.637228  \n",
       "std      3.088689    2.842017  \n",
       "min      0.000000    0.000000  \n",
       "25%      1.000000    0.000000  \n",
       "50%      3.000000    2.000000  \n",
       "75%      6.000000    5.000000  \n",
       "max     10.000000   10.000000  "
      ]
     },
     "execution_count": 383,
     "metadata": {},
     "output_type": "execute_result"
    }
   ],
   "source": [
    "data.describe()\n"
   ]
  },
  {
   "cell_type": "code",
   "execution_count": 385,
   "id": "4ecf79c1-8125-4771-91fd-ffa524536975",
   "metadata": {
    "scrolled": true
   },
   "outputs": [
    {
     "data": {
      "text/plain": [
       "Timestamp                         0\n",
       "Age                               1\n",
       "Primary streaming service         1\n",
       "Hours per day                     0\n",
       "While working                     3\n",
       "Instrumentalist                   4\n",
       "Composer                          1\n",
       "Fav genre                         0\n",
       "Exploratory                       0\n",
       "Foreign languages                 4\n",
       "BPM                             107\n",
       "Frequency [Classical]             0\n",
       "Frequency [Country]               0\n",
       "Frequency [EDM]                   0\n",
       "Frequency [Folk]                  0\n",
       "Frequency [Gospel]                0\n",
       "Frequency [Hip hop]               0\n",
       "Frequency [Jazz]                  0\n",
       "Frequency [K pop]                 0\n",
       "Frequency [Latin]                 0\n",
       "Frequency [Lofi]                  0\n",
       "Frequency [Metal]                 0\n",
       "Frequency [Pop]                   0\n",
       "Frequency [R&B]                   0\n",
       "Frequency [Rap]                   0\n",
       "Frequency [Rock]                  0\n",
       "Frequency [Video game music]      0\n",
       "Anxiety                           0\n",
       "Depression                        0\n",
       "Insomnia                          0\n",
       "OCD                               0\n",
       "Music effects                     8\n",
       "Permissions                       0\n",
       "dtype: int64"
      ]
     },
     "execution_count": 385,
     "metadata": {},
     "output_type": "execute_result"
    }
   ],
   "source": [
    "#showing null values\n",
    "data.isnull().sum()"
   ]
  },
  {
   "cell_type": "code",
   "execution_count": 387,
   "id": "e143a20d-9e7a-4ff0-9ddf-b933867872de",
   "metadata": {},
   "outputs": [],
   "source": [
    "#data with no output(Music effects)\n",
    "w=data[data[\"Music effects\"].isnull()]"
   ]
  },
  {
   "cell_type": "code",
   "execution_count": 389,
   "id": "ec6e35e6-aff0-4378-a642-d100cf706391",
   "metadata": {},
   "outputs": [],
   "source": [
    "#Saving the data with no output on another file\n",
    "w.to_csv(\"mental health without data.csv\",index=False)\n"
   ]
  },
  {
   "cell_type": "code",
   "execution_count": 391,
   "id": "aafee14a-1859-489d-a6ad-a6de5317040c",
   "metadata": {},
   "outputs": [],
   "source": [
    "#deleting the data with no output\n",
    "data.dropna(subset=[\"Music effects\"],inplace=True)"
   ]
  },
  {
   "cell_type": "code",
   "execution_count": 393,
   "id": "39619734-9560-4518-93ea-bd880981dfa9",
   "metadata": {},
   "outputs": [
    {
     "data": {
      "text/plain": [
       "Timestamp                         0\n",
       "Age                               1\n",
       "Primary streaming service         1\n",
       "Hours per day                     0\n",
       "While working                     2\n",
       "Instrumentalist                   3\n",
       "Composer                          0\n",
       "Fav genre                         0\n",
       "Exploratory                       0\n",
       "Foreign languages                 3\n",
       "BPM                             104\n",
       "Frequency [Classical]             0\n",
       "Frequency [Country]               0\n",
       "Frequency [EDM]                   0\n",
       "Frequency [Folk]                  0\n",
       "Frequency [Gospel]                0\n",
       "Frequency [Hip hop]               0\n",
       "Frequency [Jazz]                  0\n",
       "Frequency [K pop]                 0\n",
       "Frequency [Latin]                 0\n",
       "Frequency [Lofi]                  0\n",
       "Frequency [Metal]                 0\n",
       "Frequency [Pop]                   0\n",
       "Frequency [R&B]                   0\n",
       "Frequency [Rap]                   0\n",
       "Frequency [Rock]                  0\n",
       "Frequency [Video game music]      0\n",
       "Anxiety                           0\n",
       "Depression                        0\n",
       "Insomnia                          0\n",
       "OCD                               0\n",
       "Music effects                     0\n",
       "Permissions                       0\n",
       "dtype: int64"
      ]
     },
     "execution_count": 393,
     "metadata": {},
     "output_type": "execute_result"
    }
   ],
   "source": [
    "data.isnull().sum()"
   ]
  },
  {
   "cell_type": "code",
   "execution_count": 395,
   "id": "0e872360-e750-4607-a646-0a3430cbd838",
   "metadata": {},
   "outputs": [],
   "source": [
    "data.reset_index(drop=True,inplace=True)"
   ]
  },
  {
   "cell_type": "code",
   "execution_count": 397,
   "id": "71fa741d-ffe2-4222-9728-c4169608b952",
   "metadata": {},
   "outputs": [
    {
     "name": "stdout",
     "output_type": "stream",
     "text": [
      "<class 'pandas.core.frame.DataFrame'>\n",
      "RangeIndex: 728 entries, 0 to 727\n",
      "Data columns (total 33 columns):\n",
      " #   Column                        Non-Null Count  Dtype  \n",
      "---  ------                        --------------  -----  \n",
      " 0   Timestamp                     728 non-null    object \n",
      " 1   Age                           727 non-null    float64\n",
      " 2   Primary streaming service     727 non-null    object \n",
      " 3   Hours per day                 728 non-null    float64\n",
      " 4   While working                 726 non-null    object \n",
      " 5   Instrumentalist               725 non-null    object \n",
      " 6   Composer                      728 non-null    object \n",
      " 7   Fav genre                     728 non-null    object \n",
      " 8   Exploratory                   728 non-null    object \n",
      " 9   Foreign languages             725 non-null    object \n",
      " 10  BPM                           624 non-null    float64\n",
      " 11  Frequency [Classical]         728 non-null    object \n",
      " 12  Frequency [Country]           728 non-null    object \n",
      " 13  Frequency [EDM]               728 non-null    object \n",
      " 14  Frequency [Folk]              728 non-null    object \n",
      " 15  Frequency [Gospel]            728 non-null    object \n",
      " 16  Frequency [Hip hop]           728 non-null    object \n",
      " 17  Frequency [Jazz]              728 non-null    object \n",
      " 18  Frequency [K pop]             728 non-null    object \n",
      " 19  Frequency [Latin]             728 non-null    object \n",
      " 20  Frequency [Lofi]              728 non-null    object \n",
      " 21  Frequency [Metal]             728 non-null    object \n",
      " 22  Frequency [Pop]               728 non-null    object \n",
      " 23  Frequency [R&B]               728 non-null    object \n",
      " 24  Frequency [Rap]               728 non-null    object \n",
      " 25  Frequency [Rock]              728 non-null    object \n",
      " 26  Frequency [Video game music]  728 non-null    object \n",
      " 27  Anxiety                       728 non-null    float64\n",
      " 28  Depression                    728 non-null    float64\n",
      " 29  Insomnia                      728 non-null    float64\n",
      " 30  OCD                           728 non-null    float64\n",
      " 31  Music effects                 728 non-null    object \n",
      " 32  Permissions                   728 non-null    object \n",
      "dtypes: float64(7), object(26)\n",
      "memory usage: 187.8+ KB\n"
     ]
    }
   ],
   "source": [
    "data.info()"
   ]
  },
  {
   "cell_type": "code",
   "execution_count": 399,
   "id": "6f180a40-706e-4900-bd4f-dd94cc9d3d11",
   "metadata": {},
   "outputs": [
    {
     "data": {
      "text/plain": [
       "While working\n",
       "Yes    573\n",
       "No     153\n",
       "NaN      2\n",
       "Name: count, dtype: int64"
      ]
     },
     "execution_count": 399,
     "metadata": {},
     "output_type": "execute_result"
    }
   ],
   "source": [
    "data[\"While working\"].value_counts(dropna=False)"
   ]
  },
  {
   "cell_type": "code",
   "execution_count": null,
   "id": "c2611abf-7d0f-4615-853b-0c755a80a26c",
   "metadata": {},
   "outputs": [],
   "source": []
  },
  {
   "cell_type": "code",
   "execution_count": null,
   "id": "a32ec117-cc16-424b-9f02-a9bd855f6668",
   "metadata": {},
   "outputs": [],
   "source": []
  },
  {
   "cell_type": "code",
   "execution_count": null,
   "id": "f24a99b3-6c12-4be3-b126-0f4f19042591",
   "metadata": {},
   "outputs": [],
   "source": []
  },
  {
   "cell_type": "code",
   "execution_count": 404,
   "id": "453e32e3-1daa-4767-acb8-f9fb30102ae3",
   "metadata": {},
   "outputs": [
    {
     "name": "stderr",
     "output_type": "stream",
     "text": [
      "C:\\Users\\karun\\AppData\\Local\\Temp\\ipykernel_3568\\284371810.py:2: FutureWarning: A value is trying to be set on a copy of a DataFrame or Series through chained assignment using an inplace method.\n",
      "The behavior will change in pandas 3.0. This inplace method will never work because the intermediate object on which we are setting values always behaves as a copy.\n",
      "\n",
      "For example, when doing 'df[col].method(value, inplace=True)', try using 'df.method({col: value}, inplace=True)' or df[col] = df[col].method(value) instead, to perform the operation inplace on the original object.\n",
      "\n",
      "\n",
      "  data[\"While working\"].fillna(\"Yes\",inplace=True)\n"
     ]
    }
   ],
   "source": [
    "#fi\n",
    "data[\"While working\"].fillna(\"Yes\",inplace=True)"
   ]
  },
  {
   "cell_type": "code",
   "execution_count": 406,
   "id": "a3a82b91-20c3-4886-8ee8-660ab7d404fd",
   "metadata": {},
   "outputs": [
    {
     "data": {
      "text/plain": [
       "Timestamp                         0\n",
       "Age                               1\n",
       "Primary streaming service         1\n",
       "Hours per day                     0\n",
       "While working                     0\n",
       "Instrumentalist                   3\n",
       "Composer                          0\n",
       "Fav genre                         0\n",
       "Exploratory                       0\n",
       "Foreign languages                 3\n",
       "BPM                             104\n",
       "Frequency [Classical]             0\n",
       "Frequency [Country]               0\n",
       "Frequency [EDM]                   0\n",
       "Frequency [Folk]                  0\n",
       "Frequency [Gospel]                0\n",
       "Frequency [Hip hop]               0\n",
       "Frequency [Jazz]                  0\n",
       "Frequency [K pop]                 0\n",
       "Frequency [Latin]                 0\n",
       "Frequency [Lofi]                  0\n",
       "Frequency [Metal]                 0\n",
       "Frequency [Pop]                   0\n",
       "Frequency [R&B]                   0\n",
       "Frequency [Rap]                   0\n",
       "Frequency [Rock]                  0\n",
       "Frequency [Video game music]      0\n",
       "Anxiety                           0\n",
       "Depression                        0\n",
       "Insomnia                          0\n",
       "OCD                               0\n",
       "Music effects                     0\n",
       "Permissions                       0\n",
       "dtype: int64"
      ]
     },
     "execution_count": 406,
     "metadata": {},
     "output_type": "execute_result"
    }
   ],
   "source": [
    "data.isnull().sum()"
   ]
  },
  {
   "cell_type": "code",
   "execution_count": 408,
   "id": "faf963e7-4372-4326-bdf2-2a8c47f64dcf",
   "metadata": {},
   "outputs": [
    {
     "data": {
      "text/plain": [
       "Instrumentalist\n",
       "No     493\n",
       "Yes    232\n",
       "NaN      3\n",
       "Name: count, dtype: int64"
      ]
     },
     "execution_count": 408,
     "metadata": {},
     "output_type": "execute_result"
    }
   ],
   "source": [
    "data[\"Instrumentalist\"].value_counts(dropna=False)"
   ]
  },
  {
   "cell_type": "code",
   "execution_count": 410,
   "id": "e06617fa-41d7-4030-b66f-d810712b7a48",
   "metadata": {},
   "outputs": [
    {
     "name": "stderr",
     "output_type": "stream",
     "text": [
      "C:\\Users\\karun\\AppData\\Local\\Temp\\ipykernel_3568\\2981767819.py:1: FutureWarning: A value is trying to be set on a copy of a DataFrame or Series through chained assignment using an inplace method.\n",
      "The behavior will change in pandas 3.0. This inplace method will never work because the intermediate object on which we are setting values always behaves as a copy.\n",
      "\n",
      "For example, when doing 'df[col].method(value, inplace=True)', try using 'df.method({col: value}, inplace=True)' or df[col] = df[col].method(value) instead, to perform the operation inplace on the original object.\n",
      "\n",
      "\n",
      "  data[\"Instrumentalist\"].fillna(\"Yes\",inplace=True)\n"
     ]
    }
   ],
   "source": [
    "data[\"Instrumentalist\"].fillna(\"Yes\",inplace=True)"
   ]
  },
  {
   "cell_type": "code",
   "execution_count": 412,
   "id": "408dee29-376f-4539-8c54-7bb36ef0e73e",
   "metadata": {},
   "outputs": [
    {
     "data": {
      "text/plain": [
       "Timestamp                         0\n",
       "Age                               1\n",
       "Primary streaming service         1\n",
       "Hours per day                     0\n",
       "While working                     0\n",
       "Instrumentalist                   0\n",
       "Composer                          0\n",
       "Fav genre                         0\n",
       "Exploratory                       0\n",
       "Foreign languages                 3\n",
       "BPM                             104\n",
       "Frequency [Classical]             0\n",
       "Frequency [Country]               0\n",
       "Frequency [EDM]                   0\n",
       "Frequency [Folk]                  0\n",
       "Frequency [Gospel]                0\n",
       "Frequency [Hip hop]               0\n",
       "Frequency [Jazz]                  0\n",
       "Frequency [K pop]                 0\n",
       "Frequency [Latin]                 0\n",
       "Frequency [Lofi]                  0\n",
       "Frequency [Metal]                 0\n",
       "Frequency [Pop]                   0\n",
       "Frequency [R&B]                   0\n",
       "Frequency [Rap]                   0\n",
       "Frequency [Rock]                  0\n",
       "Frequency [Video game music]      0\n",
       "Anxiety                           0\n",
       "Depression                        0\n",
       "Insomnia                          0\n",
       "OCD                               0\n",
       "Music effects                     0\n",
       "Permissions                       0\n",
       "dtype: int64"
      ]
     },
     "execution_count": 412,
     "metadata": {},
     "output_type": "execute_result"
    }
   ],
   "source": [
    "data.isnull().sum()"
   ]
  },
  {
   "cell_type": "code",
   "execution_count": 414,
   "id": "d6a0b3c3-6d64-4ec3-a942-870a91486c62",
   "metadata": {},
   "outputs": [
    {
     "data": {
      "text/plain": [
       "Primary streaming service\n",
       "Spotify                              455\n",
       "YouTube Music                         93\n",
       "I do not use a streaming service.     70\n",
       "Apple Music                           50\n",
       "Other streaming service               49\n",
       "Pandora                               10\n",
       "NaN                                    1\n",
       "Name: count, dtype: int64"
      ]
     },
     "execution_count": 414,
     "metadata": {},
     "output_type": "execute_result"
    }
   ],
   "source": [
    "data[\"Primary streaming service\"].value_counts(dropna=False)"
   ]
  },
  {
   "cell_type": "code",
   "execution_count": 416,
   "id": "5b874ab2-8c96-42a0-99b8-2902f9dcb976",
   "metadata": {},
   "outputs": [
    {
     "data": {
      "text/plain": [
       "Foreign languages\n",
       "Yes    400\n",
       "No     325\n",
       "NaN      3\n",
       "Name: count, dtype: int64"
      ]
     },
     "execution_count": 416,
     "metadata": {},
     "output_type": "execute_result"
    }
   ],
   "source": [
    "data[\"Foreign languages\"].value_counts(dropna=False)"
   ]
  },
  {
   "cell_type": "code",
   "execution_count": 418,
   "id": "43b689a5-a9e4-496a-900a-2a51168a6042",
   "metadata": {},
   "outputs": [
    {
     "name": "stderr",
     "output_type": "stream",
     "text": [
      "C:\\Users\\karun\\AppData\\Local\\Temp\\ipykernel_3568\\2251087707.py:1: FutureWarning: A value is trying to be set on a copy of a DataFrame or Series through chained assignment using an inplace method.\n",
      "The behavior will change in pandas 3.0. This inplace method will never work because the intermediate object on which we are setting values always behaves as a copy.\n",
      "\n",
      "For example, when doing 'df[col].method(value, inplace=True)', try using 'df.method({col: value}, inplace=True)' or df[col] = df[col].method(value) instead, to perform the operation inplace on the original object.\n",
      "\n",
      "\n",
      "  data[\"Primary streaming service\"].fillna(\"Spotify\",inplace=True)\n",
      "C:\\Users\\karun\\AppData\\Local\\Temp\\ipykernel_3568\\2251087707.py:2: FutureWarning: A value is trying to be set on a copy of a DataFrame or Series through chained assignment using an inplace method.\n",
      "The behavior will change in pandas 3.0. This inplace method will never work because the intermediate object on which we are setting values always behaves as a copy.\n",
      "\n",
      "For example, when doing 'df[col].method(value, inplace=True)', try using 'df.method({col: value}, inplace=True)' or df[col] = df[col].method(value) instead, to perform the operation inplace on the original object.\n",
      "\n",
      "\n",
      "  data[\"Foreign languages\"].fillna(\"Yes\",inplace=True)\n"
     ]
    }
   ],
   "source": [
    "data[\"Primary streaming service\"].fillna(\"Spotify\",inplace=True)\n",
    "data[\"Foreign languages\"].fillna(\"Yes\",inplace=True)"
   ]
  },
  {
   "cell_type": "code",
   "execution_count": 420,
   "id": "a5182c8e-aa36-40d5-8ab7-0d0537e7c4c4",
   "metadata": {},
   "outputs": [
    {
     "data": {
      "text/plain": [
       "Timestamp                         0\n",
       "Age                               1\n",
       "Primary streaming service         0\n",
       "Hours per day                     0\n",
       "While working                     0\n",
       "Instrumentalist                   0\n",
       "Composer                          0\n",
       "Fav genre                         0\n",
       "Exploratory                       0\n",
       "Foreign languages                 0\n",
       "BPM                             104\n",
       "Frequency [Classical]             0\n",
       "Frequency [Country]               0\n",
       "Frequency [EDM]                   0\n",
       "Frequency [Folk]                  0\n",
       "Frequency [Gospel]                0\n",
       "Frequency [Hip hop]               0\n",
       "Frequency [Jazz]                  0\n",
       "Frequency [K pop]                 0\n",
       "Frequency [Latin]                 0\n",
       "Frequency [Lofi]                  0\n",
       "Frequency [Metal]                 0\n",
       "Frequency [Pop]                   0\n",
       "Frequency [R&B]                   0\n",
       "Frequency [Rap]                   0\n",
       "Frequency [Rock]                  0\n",
       "Frequency [Video game music]      0\n",
       "Anxiety                           0\n",
       "Depression                        0\n",
       "Insomnia                          0\n",
       "OCD                               0\n",
       "Music effects                     0\n",
       "Permissions                       0\n",
       "dtype: int64"
      ]
     },
     "execution_count": 420,
     "metadata": {},
     "output_type": "execute_result"
    }
   ],
   "source": [
    "data.isnull().sum()"
   ]
  },
  {
   "cell_type": "code",
   "execution_count": 422,
   "id": "cb39cc54-b3ea-4b92-9ccc-0bea1446124c",
   "metadata": {},
   "outputs": [
    {
     "name": "stdout",
     "output_type": "stream",
     "text": [
      "21.0\n"
     ]
    }
   ],
   "source": [
    "m_age=data[\"Age\"].median()\n",
    "print(m_age)"
   ]
  },
  {
   "cell_type": "code",
   "execution_count": 424,
   "id": "978736d9-0c91-4e99-97ab-d492a5d5ff6a",
   "metadata": {},
   "outputs": [
    {
     "name": "stderr",
     "output_type": "stream",
     "text": [
      "C:\\Users\\karun\\AppData\\Local\\Temp\\ipykernel_3568\\1761513553.py:1: FutureWarning: A value is trying to be set on a copy of a DataFrame or Series through chained assignment using an inplace method.\n",
      "The behavior will change in pandas 3.0. This inplace method will never work because the intermediate object on which we are setting values always behaves as a copy.\n",
      "\n",
      "For example, when doing 'df[col].method(value, inplace=True)', try using 'df.method({col: value}, inplace=True)' or df[col] = df[col].method(value) instead, to perform the operation inplace on the original object.\n",
      "\n",
      "\n",
      "  data[\"Age\"].fillna(21.0,inplace=True)\n"
     ]
    }
   ],
   "source": [
    "data[\"Age\"].fillna(21.0,inplace=True)"
   ]
  },
  {
   "cell_type": "code",
   "execution_count": 426,
   "id": "f8562775-336e-43e4-a820-60d719fa74b0",
   "metadata": {},
   "outputs": [
    {
     "data": {
      "text/plain": [
       "Timestamp                         0\n",
       "Age                               0\n",
       "Primary streaming service         0\n",
       "Hours per day                     0\n",
       "While working                     0\n",
       "Instrumentalist                   0\n",
       "Composer                          0\n",
       "Fav genre                         0\n",
       "Exploratory                       0\n",
       "Foreign languages                 0\n",
       "BPM                             104\n",
       "Frequency [Classical]             0\n",
       "Frequency [Country]               0\n",
       "Frequency [EDM]                   0\n",
       "Frequency [Folk]                  0\n",
       "Frequency [Gospel]                0\n",
       "Frequency [Hip hop]               0\n",
       "Frequency [Jazz]                  0\n",
       "Frequency [K pop]                 0\n",
       "Frequency [Latin]                 0\n",
       "Frequency [Lofi]                  0\n",
       "Frequency [Metal]                 0\n",
       "Frequency [Pop]                   0\n",
       "Frequency [R&B]                   0\n",
       "Frequency [Rap]                   0\n",
       "Frequency [Rock]                  0\n",
       "Frequency [Video game music]      0\n",
       "Anxiety                           0\n",
       "Depression                        0\n",
       "Insomnia                          0\n",
       "OCD                               0\n",
       "Music effects                     0\n",
       "Permissions                       0\n",
       "dtype: int64"
      ]
     },
     "execution_count": 426,
     "metadata": {},
     "output_type": "execute_result"
    }
   ],
   "source": [
    "data.isnull().sum()"
   ]
  },
  {
   "cell_type": "code",
   "execution_count": 428,
   "id": "40aba331-193c-487a-b107-5a1b66c4f889",
   "metadata": {},
   "outputs": [
    {
     "name": "stdout",
     "output_type": "stream",
     "text": [
      "           Fav genre  null_bpm_count\n",
      "0          Classical              13\n",
      "1            Country               4\n",
      "2               Folk               4\n",
      "3             Gospel               2\n",
      "4            Hip hop               3\n",
      "5               Jazz               1\n",
      "6              Metal              10\n",
      "7                Pop              17\n",
      "8                R&B               5\n",
      "9                Rap               2\n",
      "10              Rock              36\n",
      "11  Video game music               7\n"
     ]
    }
   ],
   "source": [
    "null_bpm_counts = data[data['BPM'].isnull()].groupby('Fav genre').size().reset_index(name='null_bpm_count')\n",
    "print(null_bpm_counts)"
   ]
  },
  {
   "cell_type": "code",
   "execution_count": 430,
   "id": "8b877b05-77b5-4d8b-bc34-8085c6d2e6f3",
   "metadata": {},
   "outputs": [
    {
     "name": "stdout",
     "output_type": "stream",
     "text": [
      "           Fav_genre     mean_bpm\n",
      "0          Classical       114.58\n",
      "1            Country       110.19\n",
      "2                EDM       147.50\n",
      "3               Folk       109.72\n",
      "4             Gospel        89.25\n",
      "5            Hip hop       111.91\n",
      "6               Jazz       124.47\n",
      "7              K pop       129.48\n",
      "8              Latin       122.50\n",
      "9               Lofi       114.30\n",
      "10             Metal       139.10\n",
      "11               Pop       118.91\n",
      "12               R&B       114.17\n",
      "13               Rap       127.10\n",
      "14              Rock       124.09\n",
      "15  Video game music  27027143.51\n"
     ]
    }
   ],
   "source": [
    "mean_bpm_by_genre = data.groupby('Fav genre')['BPM'].mean().reset_index().round(2)\n",
    "mean_bpm_by_genre.columns = ['Fav_genre', \"mean_bpm\"]\n",
    "print(mean_bpm_by_genre)"
   ]
  },
  {
   "cell_type": "code",
   "execution_count": 432,
   "id": "30f258c6-2313-4acf-af71-6be002e99f60",
   "metadata": {},
   "outputs": [
    {
     "data": {
      "image/png": "[encoded data removed]",
      "text/plain": [
       "<Figure size 800x600 with 1 Axes>"
      ]
     },
     "metadata": {},
     "output_type": "display_data"
    }
   ],
   "source": [
    "#WE can see that Vedio game music has an outlier , we will find and remove it.\n",
    "data_vgm = data[data['Fav genre'] == 'Video game music']\n",
    "\n",
    "# Create boxplot\n",
    "plt.figure(figsize=(8, 6))\n",
    "sns.boxplot(y=data_vgm['BPM'])\n",
    "plt.title('Boxplot of BPM for Video game music Genre')\n",
    "plt.ylabel('BPM')\n",
    "plt.show()"
   ]
  },
  {
   "cell_type": "code",
   "execution_count": 434,
   "id": "b39672fa-2dd3-40d4-91db-87021493b55c",
   "metadata": {},
   "outputs": [],
   "source": [
    "##check there is a mistake here\n",
    "\n",
    "\n",
    "\n",
    "#Finding the outlier and imputing it in the data set\n",
    "Q1 = data['BPM'].quantile(0.25)\n",
    "Q3 = data['BPM'].quantile(0.75)\n",
    "IQR = Q3 - Q1\n",
    "lower_bound = Q1 - 1.5 * IQR\n",
    "upper_bound = Q3 + 1.5 * IQR\n",
    "data = data[(data['BPM'] >= lower_bound) & (data['BPM']<=upper_bound)]\n"
   ]
  },
  {
   "cell_type": "code",
   "execution_count": 371,
   "id": "8f6a617d-36b4-4ae4-b487-8160825a255d",
   "metadata": {},
   "outputs": [
    {
     "name": "stdout",
     "output_type": "stream",
     "text": [
      "           Fav_genre  mean_bpm\n",
      "0          Classical    114.58\n",
      "1            Country    110.19\n",
      "2                EDM    133.89\n",
      "3               Folk    114.29\n",
      "4             Gospel    116.33\n",
      "5            Hip hop    114.87\n",
      "6               Jazz    124.47\n",
      "7              K pop    129.48\n",
      "8              Latin    122.50\n",
      "9               Lofi    114.30\n",
      "10             Metal    140.70\n",
      "11               Pop    118.91\n",
      "12               R&B    117.97\n",
      "13               Rap    127.10\n",
      "14              Rock    123.44\n",
      "15  Video game music    119.75\n"
     ]
    }
   ],
   "source": [
    "mean_bpm_by_genre = data.groupby('Fav genre')['BPM'].mean().reset_index().round(2)\n",
    "mean_bpm_by_genre.columns = ['Fav_genre', \"mean_bpm\"]\n",
    "print(mean_bpm_by_genre)"
   ]
  },
  {
   "cell_type": "code",
   "execution_count": 373,
   "id": "37bff344-116e-4f3d-b63c-4c1c07e97b00",
   "metadata": {},
   "outputs": [
    {
     "name": "stdout",
     "output_type": "stream",
     "text": [
      "<class 'pandas.core.frame.DataFrame'>\n",
      "Index: 613 entries, 0 to 727\n",
      "Data columns (total 31 columns):\n",
      " #   Column                        Non-Null Count  Dtype  \n",
      "---  ------                        --------------  -----  \n",
      " 0   Age                           613 non-null    float64\n",
      " 1   Primary streaming service     613 non-null    object \n",
      " 2   Hours per day                 613 non-null    float64\n",
      " 3   While working                 613 non-null    object \n",
      " 4   Instrumentalist               613 non-null    object \n",
      " 5   Composer                      613 non-null    object \n",
      " 6   Fav genre                     613 non-null    object \n",
      " 7   Exploratory                   613 non-null    object \n",
      " 8   Foreign languages             613 non-null    object \n",
      " 9   BPM                           613 non-null    float64\n",
      " 10  Frequency [Classical]         613 non-null    object \n",
      " 11  Frequency [Country]           613 non-null    object \n",
      " 12  Frequency [EDM]               613 non-null    object \n",
      " 13  Frequency [Folk]              613 non-null    object \n",
      " 14  Frequency [Gospel]            613 non-null    object \n",
      " 15  Frequency [Hip hop]           613 non-null    object \n",
      " 16  Frequency [Jazz]              613 non-null    object \n",
      " 17  Frequency [K pop]             613 non-null    object \n",
      " 18  Frequency [Latin]             613 non-null    object \n",
      " 19  Frequency [Lofi]              613 non-null    object \n",
      " 20  Frequency [Metal]             613 non-null    object \n",
      " 21  Frequency [Pop]               613 non-null    object \n",
      " 22  Frequency [R&B]               613 non-null    object \n",
      " 23  Frequency [Rap]               613 non-null    object \n",
      " 24  Frequency [Rock]              613 non-null    object \n",
      " 25  Frequency [Video game music]  613 non-null    object \n",
      " 26  Anxiety                       613 non-null    float64\n",
      " 27  Depression                    613 non-null    float64\n",
      " 28  Insomnia                      613 non-null    float64\n",
      " 29  OCD                           613 non-null    float64\n",
      " 30  Music effects                 613 non-null    object \n",
      "dtypes: float64(7), object(24)\n",
      "memory usage: 153.2+ KB\n"
     ]
    }
   ],
   "source": [
    "data.info()"
   ]
  },
  {
   "cell_type": "code",
   "execution_count": 367,
   "id": "1d88d255-2865-465e-9c02-be510298e411",
   "metadata": {},
   "outputs": [],
   "source": [
    "\n",
    "# Replace NaN values with the mean BPM for each genre\n",
    "mean_bpm_by_genre = data.groupby('Fav genre')['BPM'].transform('mean')\n",
    "data['BPM'] = data['BPM'].fillna(mean_bpm_by_genre)"
   ]
  },
  {
   "cell_type": "code",
   "execution_count": 369,
   "id": "f912c69c-1cb3-4cfd-a756-a34ed8ee8565",
   "metadata": {},
   "outputs": [
    {
     "name": "stdout",
     "output_type": "stream",
     "text": [
      "<class 'pandas.core.frame.DataFrame'>\n",
      "Index: 613 entries, 0 to 727\n",
      "Data columns (total 31 columns):\n",
      " #   Column                        Non-Null Count  Dtype  \n",
      "---  ------                        --------------  -----  \n",
      " 0   Age                           613 non-null    float64\n",
      " 1   Primary streaming service     613 non-null    object \n",
      " 2   Hours per day                 613 non-null    float64\n",
      " 3   While working                 613 non-null    object \n",
      " 4   Instrumentalist               613 non-null    object \n",
      " 5   Composer                      613 non-null    object \n",
      " 6   Fav genre                     613 non-null    object \n",
      " 7   Exploratory                   613 non-null    object \n",
      " 8   Foreign languages             613 non-null    object \n",
      " 9   BPM                           613 non-null    float64\n",
      " 10  Frequency [Classical]         613 non-null    object \n",
      " 11  Frequency [Country]           613 non-null    object \n",
      " 12  Frequency [EDM]               613 non-null    object \n",
      " 13  Frequency [Folk]              613 non-null    object \n",
      " 14  Frequency [Gospel]            613 non-null    object \n",
      " 15  Frequency [Hip hop]           613 non-null    object \n",
      " 16  Frequency [Jazz]              613 non-null    object \n",
      " 17  Frequency [K pop]             613 non-null    object \n",
      " 18  Frequency [Latin]             613 non-null    object \n",
      " 19  Frequency [Lofi]              613 non-null    object \n",
      " 20  Frequency [Metal]             613 non-null    object \n",
      " 21  Frequency [Pop]               613 non-null    object \n",
      " 22  Frequency [R&B]               613 non-null    object \n",
      " 23  Frequency [Rap]               613 non-null    object \n",
      " 24  Frequency [Rock]              613 non-null    object \n",
      " 25  Frequency [Video game music]  613 non-null    object \n",
      " 26  Anxiety                       613 non-null    float64\n",
      " 27  Depression                    613 non-null    float64\n",
      " 28  Insomnia                      613 non-null    float64\n",
      " 29  OCD                           613 non-null    float64\n",
      " 30  Music effects                 613 non-null    object \n",
      "dtypes: float64(7), object(24)\n",
      "memory usage: 153.2+ KB\n"
     ]
    }
   ],
   "source": [
    "data.info()"
   ]
  },
  {
   "cell_type": "code",
   "execution_count": 355,
   "id": "74005bc2-49c7-4566-aef6-9b9760d8916c",
   "metadata": {},
   "outputs": [
    {
     "name": "stdout",
     "output_type": "stream",
     "text": [
      "Empty DataFrame\n",
      "Columns: [Fav genre, null_bpm_count]\n",
      "Index: []\n"
     ]
    }
   ],
   "source": [
    "null_bpm_counts = data[data['BPM'].isnull()].groupby('Fav genre').size().reset_index(name='null_bpm_count')\n",
    "print(null_bpm_counts)"
   ]
  },
  {
   "cell_type": "code",
   "execution_count": 357,
   "id": "bf83fb1d-1320-4838-a243-371c04af231d",
   "metadata": {},
   "outputs": [
    {
     "name": "stdout",
     "output_type": "stream",
     "text": [
      "<class 'pandas.core.frame.DataFrame'>\n",
      "Index: 613 entries, 0 to 727\n",
      "Data columns (total 33 columns):\n",
      " #   Column                        Non-Null Count  Dtype  \n",
      "---  ------                        --------------  -----  \n",
      " 0   Timestamp                     613 non-null    object \n",
      " 1   Age                           613 non-null    float64\n",
      " 2   Primary streaming service     613 non-null    object \n",
      " 3   Hours per day                 613 non-null    float64\n",
      " 4   While working                 613 non-null    object \n",
      " 5   Instrumentalist               613 non-null    object \n",
      " 6   Composer                      613 non-null    object \n",
      " 7   Fav genre                     613 non-null    object \n",
      " 8   Exploratory                   613 non-null    object \n",
      " 9   Foreign languages             613 non-null    object \n",
      " 10  BPM                           613 non-null    float64\n",
      " 11  Frequency [Classical]         613 non-null    object \n",
      " 12  Frequency [Country]           613 non-null    object \n",
      " 13  Frequency [EDM]               613 non-null    object \n",
      " 14  Frequency [Folk]              613 non-null    object \n",
      " 15  Frequency [Gospel]            613 non-null    object \n",
      " 16  Frequency [Hip hop]           613 non-null    object \n",
      " 17  Frequency [Jazz]              613 non-null    object \n",
      " 18  Frequency [K pop]             613 non-null    object \n",
      " 19  Frequency [Latin]             613 non-null    object \n",
      " 20  Frequency [Lofi]              613 non-null    object \n",
      " 21  Frequency [Metal]             613 non-null    object \n",
      " 22  Frequency [Pop]               613 non-null    object \n",
      " 23  Frequency [R&B]               613 non-null    object \n",
      " 24  Frequency [Rap]               613 non-null    object \n",
      " 25  Frequency [Rock]              613 non-null    object \n",
      " 26  Frequency [Video game music]  613 non-null    object \n",
      " 27  Anxiety                       613 non-null    float64\n",
      " 28  Depression                    613 non-null    float64\n",
      " 29  Insomnia                      613 non-null    float64\n",
      " 30  OCD                           613 non-null    float64\n",
      " 31  Music effects                 613 non-null    object \n",
      " 32  Permissions                   613 non-null    object \n",
      "dtypes: float64(7), object(26)\n",
      "memory usage: 162.8+ KB\n"
     ]
    }
   ],
   "source": [
    "data.info()"
   ]
  },
  {
   "cell_type": "code",
   "execution_count": 359,
   "id": "9d7be562-1eb1-4a0e-aa8b-49f7bb102d60",
   "metadata": {},
   "outputs": [
    {
     "data": {
      "text/plain": [
       "Timestamp                       0\n",
       "Age                             0\n",
       "Primary streaming service       0\n",
       "Hours per day                   0\n",
       "While working                   0\n",
       "Instrumentalist                 0\n",
       "Composer                        0\n",
       "Fav genre                       0\n",
       "Exploratory                     0\n",
       "Foreign languages               0\n",
       "BPM                             0\n",
       "Frequency [Classical]           0\n",
       "Frequency [Country]             0\n",
       "Frequency [EDM]                 0\n",
       "Frequency [Folk]                0\n",
       "Frequency [Gospel]              0\n",
       "Frequency [Hip hop]             0\n",
       "Frequency [Jazz]                0\n",
       "Frequency [K pop]               0\n",
       "Frequency [Latin]               0\n",
       "Frequency [Lofi]                0\n",
       "Frequency [Metal]               0\n",
       "Frequency [Pop]                 0\n",
       "Frequency [R&B]                 0\n",
       "Frequency [Rap]                 0\n",
       "Frequency [Rock]                0\n",
       "Frequency [Video game music]    0\n",
       "Anxiety                         0\n",
       "Depression                      0\n",
       "Insomnia                        0\n",
       "OCD                             0\n",
       "Music effects                   0\n",
       "Permissions                     0\n",
       "dtype: int64"
      ]
     },
     "execution_count": 359,
     "metadata": {},
     "output_type": "execute_result"
    }
   ],
   "source": [
    "data.isnull().sum()"
   ]
  },
  {
   "cell_type": "code",
   "execution_count": 361,
   "id": "9c3e21c3-c804-456a-81a7-f1a5443c7247",
   "metadata": {},
   "outputs": [
    {
     "data": {
      "image/png": "[encoded data removed]",
      "text/plain": [
       "<Figure size 1000x600 with 1 Axes>"
      ]
     },
     "metadata": {},
     "output_type": "display_data"
    }
   ],
   "source": [
    "#Finding outliers in BPM in individual genre\n",
    "plt.figure(figsize=(10, 6))\n",
    "sns.scatterplot(data=data, x='Fav genre', y='BPM', hue='Fav genre', palette='viridis', s=100)\n",
    "plt.title('Scatterplot of BPM with Different Colors for Each Genre')\n",
    "plt.xlabel('Genre')\n",
    "plt.ylabel('BPM')\n",
    "plt.legend(title='Genre')\n",
    "plt.show()"
   ]
  },
  {
   "cell_type": "code",
   "execution_count": 363,
   "id": "5c286524-1519-48e6-b3e1-280422a9e146",
   "metadata": {},
   "outputs": [],
   "source": [
    "#Removing time stamp and permission columns\n",
    "columns_to_remove = ['Timestamp', 'Permissions']\n",
    "data = data.drop(columns=columns_to_remove)"
   ]
  },
  {
   "cell_type": "code",
   "execution_count": 365,
   "id": "35b4e7de-5c9d-4672-aa10-c08ea95bea81",
   "metadata": {},
   "outputs": [
    {
     "data": {
      "text/html": [
       "<div>\n",
       "<style scoped>\n",
       "    .dataframe tbody tr th:only-of-type {\n",
       "        vertical-align: middle;\n",
       "    }\n",
       "\n",
       "    .dataframe tbody tr th {\n",
       "        vertical-align: top;\n",
       "    }\n",
       "\n",
       "    .dataframe thead th {\n",
       "        text-align: right;\n",
       "    }\n",
       "</style>\n",
       "<table border=\"1\" class=\"dataframe\">\n",
       "  <thead>\n",
       "    <tr style=\"text-align: right;\">\n",
       "      <th></th>\n",
       "      <th>Age</th>\n",
       "      <th>Primary streaming service</th>\n",
       "      <th>Hours per day</th>\n",
       "      <th>While working</th>\n",
       "      <th>Instrumentalist</th>\n",
       "      <th>Composer</th>\n",
       "      <th>Fav genre</th>\n",
       "      <th>Exploratory</th>\n",
       "      <th>Foreign languages</th>\n",
       "      <th>BPM</th>\n",
       "      <th>...</th>\n",
       "      <th>Frequency [Pop]</th>\n",
       "      <th>Frequency [R&amp;B]</th>\n",
       "      <th>Frequency [Rap]</th>\n",
       "      <th>Frequency [Rock]</th>\n",
       "      <th>Frequency [Video game music]</th>\n",
       "      <th>Anxiety</th>\n",
       "      <th>Depression</th>\n",
       "      <th>Insomnia</th>\n",
       "      <th>OCD</th>\n",
       "      <th>Music effects</th>\n",
       "    </tr>\n",
       "  </thead>\n",
       "  <tbody>\n",
       "    <tr>\n",
       "      <th>0</th>\n",
       "      <td>18.0</td>\n",
       "      <td>Spotify</td>\n",
       "      <td>4.0</td>\n",
       "      <td>No</td>\n",
       "      <td>No</td>\n",
       "      <td>No</td>\n",
       "      <td>Video game music</td>\n",
       "      <td>No</td>\n",
       "      <td>Yes</td>\n",
       "      <td>132.0</td>\n",
       "      <td>...</td>\n",
       "      <td>Rarely</td>\n",
       "      <td>Never</td>\n",
       "      <td>Rarely</td>\n",
       "      <td>Rarely</td>\n",
       "      <td>Very frequently</td>\n",
       "      <td>7.0</td>\n",
       "      <td>7.0</td>\n",
       "      <td>10.0</td>\n",
       "      <td>2.0</td>\n",
       "      <td>No effect</td>\n",
       "    </tr>\n",
       "    <tr>\n",
       "      <th>1</th>\n",
       "      <td>61.0</td>\n",
       "      <td>YouTube Music</td>\n",
       "      <td>2.5</td>\n",
       "      <td>Yes</td>\n",
       "      <td>No</td>\n",
       "      <td>Yes</td>\n",
       "      <td>Jazz</td>\n",
       "      <td>Yes</td>\n",
       "      <td>Yes</td>\n",
       "      <td>84.0</td>\n",
       "      <td>...</td>\n",
       "      <td>Sometimes</td>\n",
       "      <td>Sometimes</td>\n",
       "      <td>Never</td>\n",
       "      <td>Never</td>\n",
       "      <td>Never</td>\n",
       "      <td>9.0</td>\n",
       "      <td>7.0</td>\n",
       "      <td>3.0</td>\n",
       "      <td>3.0</td>\n",
       "      <td>Improve</td>\n",
       "    </tr>\n",
       "    <tr>\n",
       "      <th>2</th>\n",
       "      <td>18.0</td>\n",
       "      <td>Spotify</td>\n",
       "      <td>4.0</td>\n",
       "      <td>Yes</td>\n",
       "      <td>No</td>\n",
       "      <td>No</td>\n",
       "      <td>R&amp;B</td>\n",
       "      <td>Yes</td>\n",
       "      <td>No</td>\n",
       "      <td>107.0</td>\n",
       "      <td>...</td>\n",
       "      <td>Sometimes</td>\n",
       "      <td>Very frequently</td>\n",
       "      <td>Very frequently</td>\n",
       "      <td>Never</td>\n",
       "      <td>Rarely</td>\n",
       "      <td>7.0</td>\n",
       "      <td>2.0</td>\n",
       "      <td>5.0</td>\n",
       "      <td>9.0</td>\n",
       "      <td>Improve</td>\n",
       "    </tr>\n",
       "    <tr>\n",
       "      <th>3</th>\n",
       "      <td>18.0</td>\n",
       "      <td>Spotify</td>\n",
       "      <td>5.0</td>\n",
       "      <td>Yes</td>\n",
       "      <td>Yes</td>\n",
       "      <td>Yes</td>\n",
       "      <td>Jazz</td>\n",
       "      <td>Yes</td>\n",
       "      <td>Yes</td>\n",
       "      <td>86.0</td>\n",
       "      <td>...</td>\n",
       "      <td>Very frequently</td>\n",
       "      <td>Very frequently</td>\n",
       "      <td>Very frequently</td>\n",
       "      <td>Very frequently</td>\n",
       "      <td>Never</td>\n",
       "      <td>8.0</td>\n",
       "      <td>8.0</td>\n",
       "      <td>7.0</td>\n",
       "      <td>7.0</td>\n",
       "      <td>Improve</td>\n",
       "    </tr>\n",
       "    <tr>\n",
       "      <th>4</th>\n",
       "      <td>18.0</td>\n",
       "      <td>YouTube Music</td>\n",
       "      <td>3.0</td>\n",
       "      <td>Yes</td>\n",
       "      <td>Yes</td>\n",
       "      <td>No</td>\n",
       "      <td>Video game music</td>\n",
       "      <td>Yes</td>\n",
       "      <td>Yes</td>\n",
       "      <td>66.0</td>\n",
       "      <td>...</td>\n",
       "      <td>Rarely</td>\n",
       "      <td>Rarely</td>\n",
       "      <td>Never</td>\n",
       "      <td>Never</td>\n",
       "      <td>Sometimes</td>\n",
       "      <td>4.0</td>\n",
       "      <td>8.0</td>\n",
       "      <td>6.0</td>\n",
       "      <td>0.0</td>\n",
       "      <td>Improve</td>\n",
       "    </tr>\n",
       "  </tbody>\n",
       "</table>\n",
       "<p>5 rows × 31 columns</p>\n",
       "</div>"
      ],
      "text/plain": [
       "    Age Primary streaming service  Hours per day While working  \\\n",
       "0  18.0                   Spotify            4.0            No   \n",
       "1  61.0             YouTube Music            2.5           Yes   \n",
       "2  18.0                   Spotify            4.0           Yes   \n",
       "3  18.0                   Spotify            5.0           Yes   \n",
       "4  18.0             YouTube Music            3.0           Yes   \n",
       "\n",
       "  Instrumentalist Composer         Fav genre Exploratory Foreign languages  \\\n",
       "0              No       No  Video game music          No               Yes   \n",
       "1              No      Yes              Jazz         Yes               Yes   \n",
       "2              No       No               R&B         Yes                No   \n",
       "3             Yes      Yes              Jazz         Yes               Yes   \n",
       "4             Yes       No  Video game music         Yes               Yes   \n",
       "\n",
       "     BPM  ...  Frequency [Pop]  Frequency [R&B]  Frequency [Rap]  \\\n",
       "0  132.0  ...           Rarely            Never           Rarely   \n",
       "1   84.0  ...        Sometimes        Sometimes            Never   \n",
       "2  107.0  ...        Sometimes  Very frequently  Very frequently   \n",
       "3   86.0  ...  Very frequently  Very frequently  Very frequently   \n",
       "4   66.0  ...           Rarely           Rarely            Never   \n",
       "\n",
       "  Frequency [Rock] Frequency [Video game music] Anxiety Depression Insomnia  \\\n",
       "0           Rarely              Very frequently     7.0        7.0     10.0   \n",
       "1            Never                        Never     9.0        7.0      3.0   \n",
       "2            Never                       Rarely     7.0        2.0      5.0   \n",
       "3  Very frequently                        Never     8.0        8.0      7.0   \n",
       "4            Never                    Sometimes     4.0        8.0      6.0   \n",
       "\n",
       "   OCD Music effects  \n",
       "0  2.0     No effect  \n",
       "1  3.0       Improve  \n",
       "2  9.0       Improve  \n",
       "3  7.0       Improve  \n",
       "4  0.0       Improve  \n",
       "\n",
       "[5 rows x 31 columns]"
      ]
     },
     "execution_count": 365,
     "metadata": {},
     "output_type": "execute_result"
    }
   ],
   "source": [
    "data.head()"
   ]
  },
  {
   "cell_type": "code",
   "execution_count": 301,
   "id": "ba27f948-ef32-4c71-a3f5-0220e0ee6b79",
   "metadata": {},
   "outputs": [],
   "source": [
    "#Making a new csv file for cleaned data. \n",
    "#Now we will work from the new file\n",
    "data.to_csv('dataset.csv', index=False)"
   ]
  },
  {
   "cell_type": "code",
   "execution_count": 303,
   "id": "9d529a22-d438-433b-bfee-f91d670274f5",
   "metadata": {},
   "outputs": [
    {
     "name": "stdout",
     "output_type": "stream",
     "text": [
      "<class 'pandas.core.frame.DataFrame'>\n",
      "Index: 613 entries, 0 to 727\n",
      "Data columns (total 31 columns):\n",
      " #   Column                        Non-Null Count  Dtype  \n",
      "---  ------                        --------------  -----  \n",
      " 0   Age                           613 non-null    float64\n",
      " 1   Primary streaming service     613 non-null    object \n",
      " 2   Hours per day                 613 non-null    float64\n",
      " 3   While working                 613 non-null    object \n",
      " 4   Instrumentalist               613 non-null    object \n",
      " 5   Composer                      613 non-null    object \n",
      " 6   Fav genre                     613 non-null    object \n",
      " 7   Exploratory                   613 non-null    object \n",
      " 8   Foreign languages             613 non-null    object \n",
      " 9   BPM                           613 non-null    float64\n",
      " 10  Frequency [Classical]         613 non-null    object \n",
      " 11  Frequency [Country]           613 non-null    object \n",
      " 12  Frequency [EDM]               613 non-null    object \n",
      " 13  Frequency [Folk]              613 non-null    object \n",
      " 14  Frequency [Gospel]            613 non-null    object \n",
      " 15  Frequency [Hip hop]           613 non-null    object \n",
      " 16  Frequency [Jazz]              613 non-null    object \n",
      " 17  Frequency [K pop]             613 non-null    object \n",
      " 18  Frequency [Latin]             613 non-null    object \n",
      " 19  Frequency [Lofi]              613 non-null    object \n",
      " 20  Frequency [Metal]             613 non-null    object \n",
      " 21  Frequency [Pop]               613 non-null    object \n",
      " 22  Frequency [R&B]               613 non-null    object \n",
      " 23  Frequency [Rap]               613 non-null    object \n",
      " 24  Frequency [Rock]              613 non-null    object \n",
      " 25  Frequency [Video game music]  613 non-null    object \n",
      " 26  Anxiety                       613 non-null    float64\n",
      " 27  Depression                    613 non-null    float64\n",
      " 28  Insomnia                      613 non-null    float64\n",
      " 29  OCD                           613 non-null    float64\n",
      " 30  Music effects                 613 non-null    object \n",
      "dtypes: float64(7), object(24)\n",
      "memory usage: 153.2+ KB\n"
     ]
    }
   ],
   "source": []
  },
  {
   "cell_type": "code",
   "execution_count": null,
   "id": "1130b64a-d741-45ab-a148-825d3f1be75a",
   "metadata": {},
   "outputs": [],
   "source": []
  },
  {
   "cell_type": "code",
   "execution_count": null,
   "id": "94031d18-8166-45b1-9cf1-8ae303337011",
   "metadata": {},
   "outputs": [],
   "source": []
  },
  {
   "cell_type": "code",
   "execution_count": null,
   "id": "a1e238bb-1bc8-4e98-ad55-f6843444a506",
   "metadata": {},
   "outputs": [],
   "source": []
  }
 ],
 "metadata": {
  "kernelspec": {
   "display_name": "Python 3 (ipykernel)",
   "language": "python",
   "name": "python3"
  },
  "language_info": {
   "codemirror_mode": {
    "name": "ipython",
    "version": 3
   },
   "file_extension": ".py",
   "mimetype": "text/x-python",
   "name": "python",
   "nbconvert_exporter": "python",
   "pygments_lexer": "ipython3",
   "version": "3.12.4"
  }
 },
 "nbformat": 4,
 "nbformat_minor": 5
}
